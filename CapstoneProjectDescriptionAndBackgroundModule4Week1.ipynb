{
 "cells": [
  {
   "cell_type": "markdown",
   "metadata": {},
   "source": [
    "# Problem Description \n",
    "\n",
    "When new or existing restaurant owners are trying to decide on a new location for their restaurant, there are multiple key factors for them to consider and understand before they decide on a new location. \n",
    "\n",
    "Based on my research of restaurant location services and restaurant owner magazines, I have narrowed my list down to several key factors owners need to understand before choosing a location. \n",
    "\n",
    "These factors include visibility, parking, space size, crime rates, surrounding businesses and competitor analysis, accessibility, and safety. \n",
    "\n",
    "For the purpose of this Capstone project, I have narrowed my choice to one key factor, “Understanding Surrounding Businesses and Competitor analysis for New Restaurant Locations” as the key problem for my project to address. \n",
    "\n",
    "# Background Discussion\n",
    "\n",
    "Lisa Melbourne is s hypothetical restaurant owner of “Breaking Bread”, a highly successful breakfast-only restaurant operating in Southern California. Lisa is looking to expand her restaurant operations into Northern California, with key interest to find a location within the San Francisco South Bay region. Lisa has enlisted my services and needs my recommendation to identify a city and location with increasing/high cross-business traffic and area having fewest breakfast venues within a couple of miles so she is not launching her restaurant into a competitive atmosphere.\n",
    "\n",
    "My goal is to provide the research data Lisa requires so she can effect an informative decision for her new restaurant location.\n",
    "\n",
    "\n",
    "# Data Description:\n",
    "\n",
    "1.\tSan Jose postal zipcode data will be obtained and used via pip install zipcodes\n",
    "2.\tFoursquare data API will be used to meet the following requirements:\n",
    "a.\tSan Jose regional data showing all business venues will be required and segmented as follows:\n",
    "i.\tAll restaurants in San Jose serving breakfast\n",
    "ii.\tSurrounding businesses of each breakfast restaurant along with their customer traffic data to assess how well businesses are doing within San Jose region.\n",
    "iii.\tData by zip/suburb to identify specific sub-regions within San Jose our client is interested in.\n",
    "b.\tBusiness customer traffic data so client can see which business venues and locations their customers are coming from.\n",
    "3.\tCompetitive Analysis\n",
    "a.\tAt a San Jose level, provide Data to show unique grouping of breakfast venues owned by same customer. Data to describe the unique number and percentage of breakfast restaurants operating within San Jose and organized to show level of competition and saturation levels.\n",
    "b.\tLocation identification:\n",
    "i.\tFor customer to further refine their area of interest, geolocation map is provided for client so client can select and refine their venue selection within 2 mile radius. Popup data is shared showing number of breakfast restaurants in each selected area.\n",
    "ii.\tSaturation level of other restaurant venues serving breakfast and their proximity spacing to customer can be seen on map plot area of interest for customer to avoid conflict.\n",
    "\n",
    "4.\tI will use Foursquare API for venue analysis, geolocation, and to assess business traffic, as well as to understand how well breakfast venues are doing in the San Jose region as a whole.\n",
    "   \n",
    "5.\tAll San Jose Zipcodes will be converted to sj_zipcode dataframe\n",
    "6.\tZip data will be used to segment neighborhoods as performed in prior lab.\n",
    "7.\t All neighborhoods/zips will have designated latitude and longitudes using geocode information from http://cocl.us/Geospatial_data\n",
    "8.\tNeighborhood data will be merged with geocode data\n",
    "9.\tWe will use Folium to map San Jose using latitude and longitude values, adding markers above to map and start exploring visuals.\n",
    "10.\tFoursquare data formats we will use include: v2/vedirnues/search, v2/venues/explore, v2/venues/nextvenues\n",
    "\n",
    "11.\tgetNearby Venues function will be used\n",
    "\n",
    "12.\tnew function and section will be created for specific development of dataframe to show source venue traffic data coming into our restaurant venue (next_venue) \n",
    "\n",
    "13.\tMost common venues dataframe will be utilized for San Jose\n",
    "\n",
    "14.\tA new dataframe will be created to include the cluster as well as the top 10 venues for each neighborhood.\n",
    "\n"
   ]
  },
  {
   "cell_type": "code",
   "execution_count": null,
   "metadata": {},
   "outputs": [],
   "source": []
  }
 ],
 "metadata": {
  "kernelspec": {
   "display_name": "Python 3",
   "language": "python",
   "name": "python3"
  },
  "language_info": {
   "codemirror_mode": {
    "name": "ipython",
    "version": 3
   },
   "file_extension": ".py",
   "mimetype": "text/x-python",
   "name": "python",
   "nbconvert_exporter": "python",
   "pygments_lexer": "ipython3",
   "version": "3.7.6"
  }
 },
 "nbformat": 4,
 "nbformat_minor": 4
}

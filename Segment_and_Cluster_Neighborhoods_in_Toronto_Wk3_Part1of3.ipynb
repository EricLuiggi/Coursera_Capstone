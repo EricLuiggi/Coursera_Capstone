{
 "cells": [
  {
   "cell_type": "markdown",
   "metadata": {},
   "source": [
    "##  Segment and Cluster Neighbourhoods in Toronto\n",
    "### IBM/Coursera Applied Datascience Capstone\n",
    "\n",
    "This Project Notebook assignment is Part 1 of 3 for Week 3: Applied Datascience Capstone Course assignment. \n"
   ]
  },
  {
   "cell_type": "markdown",
   "metadata": {},
   "source": [
    "Load url into data objects for analysis: \n",
    "\n",
    "Step 1: Build code to scrape following wikipedia page, https://en.wikipedia.org/wiki/List_of_postal_codes_of_Canada:_M, in order to obtain the Postal Code, Borough, and Neighborhood data."
   ]
  },
  {
   "cell_type": "code",
   "execution_count": 1,
   "metadata": {},
   "outputs": [],
   "source": [
    "# Load url into data objects for analysis: \n",
    "import pandas as pd #library for data analysis\n",
    "data = pd.read_html(\"https://en.wikipedia.org/wiki/List_of_postal_codes_of_Canada:_M\")"
   ]
  },
  {
   "cell_type": "markdown",
   "metadata": {},
   "source": [
    "Wrangle and clean data:\n",
    "\n",
    "Step 2: Evaluate each of the data table objects in turn that we created during url loading.\n",
    "\n",
    "Step 3: Designate primary dataframe and populate with required data objects loaded from url."
   ]
  },
  {
   "cell_type": "code",
   "execution_count": 2,
   "metadata": {},
   "outputs": [
    {
     "data": {
      "text/html": [
       "<div>\n",
       "<style scoped>\n",
       "    .dataframe tbody tr th:only-of-type {\n",
       "        vertical-align: middle;\n",
       "    }\n",
       "\n",
       "    .dataframe tbody tr th {\n",
       "        vertical-align: top;\n",
       "    }\n",
       "\n",
       "    .dataframe thead th {\n",
       "        text-align: right;\n",
       "    }\n",
       "</style>\n",
       "<table border=\"1\" class=\"dataframe\">\n",
       "  <thead>\n",
       "    <tr style=\"text-align: right;\">\n",
       "      <th></th>\n",
       "      <th>Postal Code</th>\n",
       "      <th>Borough</th>\n",
       "      <th>Neighbourhood</th>\n",
       "    </tr>\n",
       "  </thead>\n",
       "  <tbody>\n",
       "    <tr>\n",
       "      <th>0</th>\n",
       "      <td>M1A</td>\n",
       "      <td>Not assigned</td>\n",
       "      <td>Not assigned</td>\n",
       "    </tr>\n",
       "    <tr>\n",
       "      <th>1</th>\n",
       "      <td>M2A</td>\n",
       "      <td>Not assigned</td>\n",
       "      <td>Not assigned</td>\n",
       "    </tr>\n",
       "    <tr>\n",
       "      <th>2</th>\n",
       "      <td>M3A</td>\n",
       "      <td>North York</td>\n",
       "      <td>Parkwoods</td>\n",
       "    </tr>\n",
       "    <tr>\n",
       "      <th>3</th>\n",
       "      <td>M4A</td>\n",
       "      <td>North York</td>\n",
       "      <td>Victoria Village</td>\n",
       "    </tr>\n",
       "    <tr>\n",
       "      <th>4</th>\n",
       "      <td>M5A</td>\n",
       "      <td>Downtown Toronto</td>\n",
       "      <td>Regent Park, Harbourfront</td>\n",
       "    </tr>\n",
       "  </tbody>\n",
       "</table>\n",
       "</div>"
      ],
      "text/plain": [
       "  Postal Code           Borough              Neighbourhood\n",
       "0         M1A      Not assigned               Not assigned\n",
       "1         M2A      Not assigned               Not assigned\n",
       "2         M3A        North York                  Parkwoods\n",
       "3         M4A        North York           Victoria Village\n",
       "4         M5A  Downtown Toronto  Regent Park, Harbourfront"
      ]
     },
     "execution_count": 2,
     "metadata": {},
     "output_type": "execute_result"
    }
   ],
   "source": [
    "# Explore first few rows of our initial data[0] table\n",
    "# Create df, primary dataframe, merged from data[0].\n",
    "# Designate df as primary dataframe. \n",
    "\n",
    "df = data[0]\n",
    "df.head(5)"
   ]
  },
  {
   "cell_type": "markdown",
   "metadata": {},
   "source": [
    "####  Summary: \n",
    "- The first dataframe object data[0] created by html reader has the 3 column names we require, and is populated with 180 rows of data.\n",
    "- data[1] and data[2], our second and third imported dataframe objects, were both created during scraping by read_html and evaluated to see if any data is required of them. Both of the data sets contain Canada province/state higher level information, not in scope for our Toronto City level model, therefore are not used.\n",
    "- Steps 1 thru 3 are complete."
   ]
  },
  {
   "cell_type": "markdown",
   "metadata": {},
   "source": [
    "- Step 4: Ensure Borough (town) cells with an assigned borough are processed. Cells where borough = 'Not assigned' are ignored."
   ]
  },
  {
   "cell_type": "code",
   "execution_count": 3,
   "metadata": {},
   "outputs": [
    {
     "name": "stdout",
     "output_type": "stream",
     "text": [
      "Not assigned        77\n",
      "North York          24\n",
      "Downtown Toronto    19\n",
      "Scarborough         17\n",
      "Etobicoke           12\n",
      "Central Toronto      9\n",
      "West Toronto         6\n",
      "East Toronto         5\n",
      "York                 5\n",
      "East York            5\n",
      "Mississauga          1\n",
      "Name: Borough, dtype: int64\n"
     ]
    }
   ],
   "source": [
    "#Identify cell counts for each Borough. \n",
    "# We see 77 Borough cells where name is 'Not Assigned\n",
    "print(df.Borough.value_counts()) "
   ]
  },
  {
   "cell_type": "code",
   "execution_count": 4,
   "metadata": {},
   "outputs": [
    {
     "name": "stdout",
     "output_type": "stream",
     "text": [
      "North York          24\n",
      "Downtown Toronto    19\n",
      "Scarborough         17\n",
      "Etobicoke           12\n",
      "Central Toronto      9\n",
      "West Toronto         6\n",
      "East York            5\n",
      "East Toronto         5\n",
      "York                 5\n",
      "Mississauga          1\n",
      "Name: Borough, dtype: int64\n"
     ]
    }
   ],
   "source": [
    "# Remove 'Not assigned\" count data on Borough\n",
    "df = df[df['Borough'] != 'Not assigned']\n",
    "print(df.Borough.value_counts())"
   ]
  },
  {
   "cell_type": "markdown",
   "metadata": {},
   "source": [
    "#### Summary:\n",
    "- 77 row counts found above identified where Borough column has 'Not Assigned' row value.\n",
    "- After applying Step 4, 77 'Not assigned' rows are successfully removed for Borough column\n",
    "- Step 4 is complete."
   ]
  },
  {
   "cell_type": "markdown",
   "metadata": {},
   "source": [
    "Step 5: When two or more Neighborhoods share the same postal code, combine each Neighbourhood to a single neighborhood line comma delimited."
   ]
  },
  {
   "cell_type": "code",
   "execution_count": 5,
   "metadata": {},
   "outputs": [
    {
     "name": "stdout",
     "output_type": "stream",
     "text": [
      "Postal Code       0\n",
      "Borough          93\n",
      "Neighbourhood     4\n",
      "dtype: int64\n",
      "  Postal Code           Borough                                Neighbourhood\n",
      "2         M3A        North York                                    Parkwoods\n",
      "3         M4A        North York                             Victoria Village\n",
      "4         M5A  Downtown Toronto                    Regent Park, Harbourfront\n",
      "5         M6A        North York             Lawrence Manor, Lawrence Heights\n",
      "6         M7A  Downtown Toronto  Queen's Park, Ontario Provincial Government\n"
     ]
    }
   ],
   "source": [
    "# I first perform a count sum of any df column duplicates by creating a lambda function. \n",
    "dup_chk = df.apply(lambda col: col.duplicated()).sum()\n",
    "print(dup_chk)\n",
    "print(df.head(5))"
   ]
  },
  {
   "cell_type": "markdown",
   "metadata": {},
   "source": [
    "#### Summary: \n",
    "1. The dup_chk lambda function above returned a 0 sum of Postal Code column duplicates, therefore no condition of two or more Neighborhoods sharing same Postal Code value exists within dataframe. \n",
    "2. Neighbourhood column above shows comma delimited Neighbourhoods already getting combined to a single line as desired, where multiple neighbourhoods share same Postal Code.\n",
    "3. No problem occurences found, already working. Step 5 is complete."
   ]
  },
  {
   "cell_type": "markdown",
   "metadata": {},
   "source": [
    "Step 6: If a cell has a borough but a Not assigned neighborhood, then the neighborhood will be the same as the borough."
   ]
  },
  {
   "cell_type": "code",
   "execution_count": 6,
   "metadata": {},
   "outputs": [
    {
     "data": {
      "text/html": [
       "<div>\n",
       "<style scoped>\n",
       "    .dataframe tbody tr th:only-of-type {\n",
       "        vertical-align: middle;\n",
       "    }\n",
       "\n",
       "    .dataframe tbody tr th {\n",
       "        vertical-align: top;\n",
       "    }\n",
       "\n",
       "    .dataframe thead th {\n",
       "        text-align: right;\n",
       "    }\n",
       "</style>\n",
       "<table border=\"1\" class=\"dataframe\">\n",
       "  <thead>\n",
       "    <tr style=\"text-align: right;\">\n",
       "      <th></th>\n",
       "      <th>Postal Code</th>\n",
       "      <th>Borough</th>\n",
       "      <th>Neighbourhood</th>\n",
       "    </tr>\n",
       "  </thead>\n",
       "  <tbody>\n",
       "  </tbody>\n",
       "</table>\n",
       "</div>"
      ],
      "text/plain": [
       "Empty DataFrame\n",
       "Columns: [Postal Code, Borough, Neighbourhood]\n",
       "Index: []"
      ]
     },
     "execution_count": 6,
     "metadata": {},
     "output_type": "execute_result"
    }
   ],
   "source": [
    "#List all rows where Neighbourhood = 'Not assigned'. \n",
    "Num_Neighbourhood_Not_Assigneds = df[df['Neighbourhood'] == 'Not assigned']\n",
    "Num_Neighbourhood_Not_Assigneds.head(5)"
   ]
  },
  {
   "cell_type": "markdown",
   "metadata": {},
   "source": [
    "#### Summary: \n",
    "1. No applicable 'Not assigned\" Neighborhood cases found where Neighbourhood cells needed to be filled with Borough value.\n",
    "3. Step 6 reviewed for eligible 'Not assigned' cases where none were found. No value assignment required. Complete."
   ]
  },
  {
   "cell_type": "markdown",
   "metadata": {},
   "source": [
    "Step 7: Use .shape method to print number of rows of dataframe"
   ]
  },
  {
   "cell_type": "code",
   "execution_count": 7,
   "metadata": {},
   "outputs": [
    {
     "name": "stdout",
     "output_type": "stream",
     "text": [
      "(103, 3) rows x cols\n"
     ]
    }
   ],
   "source": [
    "print(df.shape, 'rows x cols')"
   ]
  },
  {
   "cell_type": "markdown",
   "metadata": {},
   "source": [
    "Save final dataframe to csv file to make available for next phase part 2 import."
   ]
  },
  {
   "cell_type": "code",
   "execution_count": 8,
   "metadata": {},
   "outputs": [
    {
     "data": {
      "text/html": [
       "<div>\n",
       "<style scoped>\n",
       "    .dataframe tbody tr th:only-of-type {\n",
       "        vertical-align: middle;\n",
       "    }\n",
       "\n",
       "    .dataframe tbody tr th {\n",
       "        vertical-align: top;\n",
       "    }\n",
       "\n",
       "    .dataframe thead th {\n",
       "        text-align: right;\n",
       "    }\n",
       "</style>\n",
       "<table border=\"1\" class=\"dataframe\">\n",
       "  <thead>\n",
       "    <tr style=\"text-align: right;\">\n",
       "      <th></th>\n",
       "      <th>Postal Code</th>\n",
       "      <th>Borough</th>\n",
       "      <th>Neighbourhood</th>\n",
       "    </tr>\n",
       "  </thead>\n",
       "  <tbody>\n",
       "    <tr>\n",
       "      <th>0</th>\n",
       "      <td>M3A</td>\n",
       "      <td>North York</td>\n",
       "      <td>Parkwoods</td>\n",
       "    </tr>\n",
       "    <tr>\n",
       "      <th>1</th>\n",
       "      <td>M4A</td>\n",
       "      <td>North York</td>\n",
       "      <td>Victoria Village</td>\n",
       "    </tr>\n",
       "    <tr>\n",
       "      <th>2</th>\n",
       "      <td>M5A</td>\n",
       "      <td>Downtown Toronto</td>\n",
       "      <td>Regent Park, Harbourfront</td>\n",
       "    </tr>\n",
       "    <tr>\n",
       "      <th>3</th>\n",
       "      <td>M6A</td>\n",
       "      <td>North York</td>\n",
       "      <td>Lawrence Manor, Lawrence Heights</td>\n",
       "    </tr>\n",
       "    <tr>\n",
       "      <th>4</th>\n",
       "      <td>M7A</td>\n",
       "      <td>Downtown Toronto</td>\n",
       "      <td>Queen's Park, Ontario Provincial Government</td>\n",
       "    </tr>\n",
       "  </tbody>\n",
       "</table>\n",
       "</div>"
      ],
      "text/plain": [
       "  Postal Code           Borough                                Neighbourhood\n",
       "0         M3A        North York                                    Parkwoods\n",
       "1         M4A        North York                             Victoria Village\n",
       "2         M5A  Downtown Toronto                    Regent Park, Harbourfront\n",
       "3         M6A        North York             Lawrence Manor, Lawrence Heights\n",
       "4         M7A  Downtown Toronto  Queen's Park, Ontario Provincial Government"
      ]
     },
     "execution_count": 8,
     "metadata": {},
     "output_type": "execute_result"
    }
   ],
   "source": [
    "#Create a Wk3:PostalDataPart1.csv file we will use for Wk3: Part 2.\n",
    "df.to_csv('Wk3PostalDataPart1.csv', index=False)\n",
    "\n",
    "#Test csv load\n",
    "df2 = pd.read_csv('./Wk3PostalDataPart1.csv')\n",
    "df2.head()"
   ]
  },
  {
   "cell_type": "markdown",
   "metadata": {},
   "source": [
    "#### Summary: \n",
    "- Net of 103 net rows of data, after 77 borough 'Not Assigned' rows were removed from initial 180 rows reported during initial step.\n",
    "- Dataframe is ready for integration with next Part 2 assignment."
   ]
  },
  {
   "cell_type": "markdown",
   "metadata": {},
   "source": [
    "### This concludes Part 1 of 3 for Week 3: Applied Datascience Capstone Course assignment. "
   ]
  }
 ],
 "metadata": {
  "kernelspec": {
   "display_name": "Python 3",
   "language": "python",
   "name": "python3"
  },
  "language_info": {
   "codemirror_mode": {
    "name": "ipython",
    "version": 3
   },
   "file_extension": ".py",
   "mimetype": "text/x-python",
   "name": "python",
   "nbconvert_exporter": "python",
   "pygments_lexer": "ipython3",
   "version": "3.7.6"
  }
 },
 "nbformat": 4,
 "nbformat_minor": 4
}
